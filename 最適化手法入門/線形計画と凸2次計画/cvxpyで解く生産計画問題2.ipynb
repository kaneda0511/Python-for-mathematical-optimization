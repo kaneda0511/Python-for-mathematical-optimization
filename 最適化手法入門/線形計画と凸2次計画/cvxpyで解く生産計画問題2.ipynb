{
 "cells": [
  {
   "cell_type": "markdown",
   "metadata": {},
   "source": [
    "## 生産計画問題１と比べてこの形式の方が変数や制約の数が多いときには便利である"
   ]
  },
  {
   "cell_type": "code",
   "execution_count": 1,
   "metadata": {},
   "outputs": [
    {
     "name": "stdout",
     "output_type": "stream",
     "text": [
      "===============================================================================\n",
      "                                     CVXPY                                     \n",
      "                                    v1.1.15                                    \n",
      "===============================================================================\n",
      "(CVXPY) Mar 19 04:58:51 PM: Your problem has 2 variables, 1 constraints, and 0 parameters.\n",
      "(CVXPY) Mar 19 04:58:51 PM: It is compliant with the following grammars: DCP, DQCP\n",
      "(CVXPY) Mar 19 04:58:51 PM: (If you need to solve this problem multiple times, but with different data, consider using parameters.)\n",
      "(CVXPY) Mar 19 04:58:51 PM: CVXPY will first compile your problem; then, it will invoke a numerical solver to obtain a solution.\n",
      "-------------------------------------------------------------------------------\n",
      "                                  Compilation                                  \n",
      "-------------------------------------------------------------------------------\n",
      "(CVXPY) Mar 19 04:58:51 PM: Compiling problem (target solver=ECOS).\n",
      "(CVXPY) Mar 19 04:58:51 PM: Reduction chain: FlipObjective -> Dcp2Cone -> CvxAttr2Constr -> ConeMatrixStuffing -> ECOS\n",
      "(CVXPY) Mar 19 04:58:51 PM: Applying reduction FlipObjective\n",
      "(CVXPY) Mar 19 04:58:51 PM: Applying reduction Dcp2Cone\n",
      "(CVXPY) Mar 19 04:58:51 PM: Applying reduction CvxAttr2Constr\n",
      "(CVXPY) Mar 19 04:58:51 PM: Applying reduction ConeMatrixStuffing\n",
      "(CVXPY) Mar 19 04:58:51 PM: Applying reduction ECOS\n",
      "(CVXPY) Mar 19 04:58:51 PM: Finished problem compilation (took 7.809e-03 seconds).\n",
      "-------------------------------------------------------------------------------\n",
      "                                Numerical solver                               \n",
      "-------------------------------------------------------------------------------\n",
      "(CVXPY) Mar 19 04:58:51 PM: Invoking solver ECOS  to obtain a solution.\n",
      "\n",
      "ECOS 2.0.7 - (C) embotech GmbH, Zurich Switzerland, 2012-15. Web: www.embotech.com/ECOS\n",
      "\n",
      "It     pcost       dcost      gap   pres   dres    k/t    mu     step   sigma     IR    |   BT\n",
      " 0  -4.814e+02  -1.107e+03  +3e+02  2e-04  3e-01  1e+00  5e+01    ---    ---    1  1  - |  -  - \n",
      " 1  -5.152e+02  -5.723e+02  +3e+01  2e-05  3e-02  3e-01  5e+00  0.9056  4e-03   0  0  0 |  0  0\n",
      " 2  -5.199e+02  -5.250e+02  +3e+00  2e-06  3e-03  3e-02  4e-01  0.9101  2e-03   1  0  0 |  0  0\n",
      " 3  -5.200e+02  -5.201e+02  +3e-02  2e-08  3e-05  4e-04  5e-03  0.9890  1e-04   1  0  0 |  0  0\n",
      " 4  -5.200e+02  -5.200e+02  +3e-04  2e-10  4e-07  4e-06  5e-05  0.9890  1e-04   1  0  0 |  0  0\n",
      " 5  -5.200e+02  -5.200e+02  +3e-06  2e-12  4e-09  5e-08  6e-07  0.9890  1e-04   1  0  0 |  0  0\n",
      "\n",
      "OPTIMAL (within feastol=4.2e-09, reltol=6.7e-09, abstol=3.5e-06).\n",
      "Runtime: 0.000131 seconds.\n",
      "\n",
      "-------------------------------------------------------------------------------\n",
      "                                    Summary                                    \n",
      "-------------------------------------------------------------------------------\n",
      "(CVXPY) Mar 19 04:58:51 PM: Problem status: optimal\n",
      "(CVXPY) Mar 19 04:58:51 PM: Optimal value: 5.200e+02\n",
      "(CVXPY) Mar 19 04:58:51 PM: Compilation took 7.809e-03 seconds\n",
      "(CVXPY) Mar 19 04:58:51 PM: Solver (including time spent in interface) took 2.429e-04 seconds\n",
      "[7.99999999 6.        ]\n"
     ]
    }
   ],
   "source": [
    "import cvxpy as cp\n",
    "import numpy as np\n",
    "\n",
    "#　決定変数の定義\n",
    "x = cp.Variable(2)\n",
    "\n",
    "#　目的変数の数値入力\n",
    "c = np.array([20.0,60.0])\n",
    "\n",
    "#　制約条件の数値Gの行列入力\n",
    "G = np.array([\n",
    "    [5.0,4.0],\n",
    "    [2.0,4.0],\n",
    "    [2.0,8.0],\n",
    "    [-1.0,0.0],\n",
    "    [0.0,-1.0]])\n",
    "\n",
    "#　制約条件の数値hの行列入力\n",
    "h = [80.0,40.0,64.0,0.0,0.0]\n",
    "\n",
    "#　最小化問題の設計\n",
    "obj = cp.Maximize(c.T @ x)\n",
    "\n",
    "#　行列Gと決定変数によるhの制約条件の作成\n",
    "cons = [G @ x <= h]\n",
    "\n",
    "#　最適化問題を定義\n",
    "P = cp.Problem(obj,cons)\n",
    "#　求解\n",
    "P.solve(verbose=True)\n",
    "#　最適解の出力\n",
    "print(x.value)"
   ]
  },
  {
   "cell_type": "code",
   "execution_count": null,
   "metadata": {},
   "outputs": [],
   "source": []
  }
 ],
 "metadata": {
  "interpreter": {
   "hash": "38a9d234814b4a76450ff8f45502c93f8b25cfa1806eaf223240433707b634f9"
  },
  "kernelspec": {
   "display_name": "Python 3.8.8 64-bit ('base': conda)",
   "name": "python3"
  },
  "language_info": {
   "codemirror_mode": {
    "name": "ipython",
    "version": 3
   },
   "file_extension": ".py",
   "mimetype": "text/x-python",
   "name": "python",
   "nbconvert_exporter": "python",
   "pygments_lexer": "ipython3",
   "version": "3.8.8"
  },
  "orig_nbformat": 4
 },
 "nbformat": 4,
 "nbformat_minor": 2
}
