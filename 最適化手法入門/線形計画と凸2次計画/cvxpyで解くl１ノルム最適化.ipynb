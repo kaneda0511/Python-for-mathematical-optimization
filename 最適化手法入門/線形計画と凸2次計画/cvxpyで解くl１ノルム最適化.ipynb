{
 "cells": [
  {
   "cell_type": "code",
   "execution_count": 8,
   "metadata": {},
   "outputs": [
    {
     "name": "stdout",
     "output_type": "stream",
     "text": [
      "===============================================================================\n",
      "                                     CVXPY                                     \n",
      "                                    v1.1.15                                    \n",
      "===============================================================================\n",
      "(CVXPY) Mar 19 05:17:11 PM: Your problem has 20 variables, 3 constraints, and 0 parameters.\n",
      "(CVXPY) Mar 19 05:17:11 PM: It is compliant with the following grammars: DCP, DQCP\n",
      "(CVXPY) Mar 19 05:17:11 PM: (If you need to solve this problem multiple times, but with different data, consider using parameters.)\n",
      "(CVXPY) Mar 19 05:17:11 PM: CVXPY will first compile your problem; then, it will invoke a numerical solver to obtain a solution.\n",
      "-------------------------------------------------------------------------------\n",
      "                                  Compilation                                  \n",
      "-------------------------------------------------------------------------------\n",
      "(CVXPY) Mar 19 05:17:11 PM: Compiling problem (target solver=ECOS).\n",
      "(CVXPY) Mar 19 05:17:11 PM: Reduction chain: Dcp2Cone -> CvxAttr2Constr -> ConeMatrixStuffing -> ECOS\n",
      "(CVXPY) Mar 19 05:17:11 PM: Applying reduction Dcp2Cone\n",
      "(CVXPY) Mar 19 05:17:11 PM: Applying reduction CvxAttr2Constr\n",
      "(CVXPY) Mar 19 05:17:11 PM: Applying reduction ConeMatrixStuffing\n",
      "(CVXPY) Mar 19 05:17:11 PM: Applying reduction ECOS\n",
      "(CVXPY) Mar 19 05:17:11 PM: Finished problem compilation (took 8.885e-03 seconds).\n",
      "-------------------------------------------------------------------------------\n",
      "                                Numerical solver                               \n",
      "-------------------------------------------------------------------------------\n",
      "(CVXPY) Mar 19 05:17:11 PM: Invoking solver ECOS  to obtain a solution.\n",
      "\n",
      "ECOS 2.0.7 - (C) embotech GmbH, Zurich Switzerland, 2012-15. Web: www.embotech.com/ECOS\n",
      "\n",
      "It     pcost       dcost      gap   pres   dres    k/t    mu     step   sigma     IR    |   BT\n",
      " 0  +0.000e+00  -0.000e+00  +1e+01  8e-01  1e-02  1e+00  7e-01    ---    ---    1  1  - |  -  - \n",
      " 1  +4.891e-01  +4.879e-01  +2e+00  3e-01  2e-03  2e-01  1e-01  0.8523  7e-03   0  0  0 |  0  0\n",
      " 2  +1.332e+00  +1.330e+00  +5e-01  6e-02  3e-04  3e-02  2e-02  0.7998  4e-02   0  0  0 |  0  0\n",
      " 3  +1.397e+00  +1.396e+00  +8e-02  9e-03  5e-05  5e-03  4e-03  0.8569  2e-02   0  0  0 |  0  0\n",
      " 4  +1.411e+00  +1.411e+00  +1e-02  2e-03  9e-06  9e-04  7e-04  0.8250  5e-03   1  0  0 |  0  0\n",
      " 5  +1.416e+00  +1.416e+00  +1e-03  1e-04  8e-07  7e-05  6e-05  0.9474  4e-02   1  0  0 |  0  0\n",
      " 6  +1.417e+00  +1.417e+00  +1e-05  2e-06  9e-09  8e-07  7e-07  0.9890  1e-04   1  0  0 |  0  0\n",
      " 7  +1.417e+00  +1.417e+00  +2e-07  2e-08  1e-10  9e-09  8e-09  0.9890  1e-04   1  0  0 |  0  0\n",
      " 8  +1.417e+00  +1.417e+00  +2e-09  2e-10  1e-12  1e-10  9e-11  0.9890  1e-04   1  0  0 |  0  0\n",
      "\n",
      "OPTIMAL (within feastol=2.0e-10, reltol=1.2e-09, abstol=1.7e-09).\n",
      "Runtime: 0.000383 seconds.\n",
      "\n",
      "-------------------------------------------------------------------------------\n",
      "                                    Summary                                    \n",
      "-------------------------------------------------------------------------------\n",
      "(CVXPY) Mar 19 05:17:11 PM: Problem status: optimal\n",
      "(CVXPY) Mar 19 05:17:11 PM: Optimal value: 1.417e+00\n",
      "(CVXPY) Mar 19 05:17:11 PM: Compilation took 8.885e-03 seconds\n",
      "(CVXPY) Mar 19 05:17:11 PM: Solver (including time spent in interface) took 5.348e-04 seconds\n",
      "[ 3.55644962e-01 -5.24213369e-11 -6.32458908e-10 -3.80241197e-11\n",
      " -4.22032404e-01  9.15861256e-11  1.70900170e-02  9.61667608e-02\n",
      " -1.48502614e-13 -5.25700283e-01]\n"
     ]
    }
   ],
   "source": [
    "import cvxpy as cp\n",
    "import numpy as np\n",
    "m, n = 5, 10\n",
    "np.random.seed(1)\n",
    "A, b = np.random.randn(m,n), np.random.randn(m)\n",
    "x, z = cp.Variable(n), cp.Variable(n)\n",
    "obj = cp.Minimize(np.ones(n) @ z )\n",
    "cons = [A @ x == b,\n",
    "        z >= x,\n",
    "        z >= -x]\n",
    "P = cp.Problem(obj,cons)\n",
    "P.solve(verbose=True)\n",
    "print(x.value)"
   ]
  },
  {
   "cell_type": "code",
   "execution_count": 9,
   "metadata": {},
   "outputs": [
    {
     "name": "stdout",
     "output_type": "stream",
     "text": [
      "===============================================================================\n",
      "                                     CVXPY                                     \n",
      "                                    v1.1.15                                    \n",
      "===============================================================================\n",
      "(CVXPY) Mar 19 05:17:14 PM: Your problem has 10 variables, 1 constraints, and 0 parameters.\n",
      "(CVXPY) Mar 19 05:17:14 PM: It is compliant with the following grammars: DCP, DQCP\n",
      "(CVXPY) Mar 19 05:17:14 PM: (If you need to solve this problem multiple times, but with different data, consider using parameters.)\n",
      "(CVXPY) Mar 19 05:17:14 PM: CVXPY will first compile your problem; then, it will invoke a numerical solver to obtain a solution.\n",
      "-------------------------------------------------------------------------------\n",
      "                                  Compilation                                  \n",
      "-------------------------------------------------------------------------------\n",
      "(CVXPY) Mar 19 05:17:14 PM: Compiling problem (target solver=ECOS).\n",
      "(CVXPY) Mar 19 05:17:14 PM: Reduction chain: Dcp2Cone -> CvxAttr2Constr -> ConeMatrixStuffing -> ECOS\n",
      "(CVXPY) Mar 19 05:17:14 PM: Applying reduction Dcp2Cone\n",
      "(CVXPY) Mar 19 05:17:14 PM: Applying reduction CvxAttr2Constr\n",
      "(CVXPY) Mar 19 05:17:14 PM: Applying reduction ConeMatrixStuffing\n",
      "(CVXPY) Mar 19 05:17:14 PM: Applying reduction ECOS\n",
      "(CVXPY) Mar 19 05:17:14 PM: Finished problem compilation (took 8.560e-03 seconds).\n",
      "-------------------------------------------------------------------------------\n",
      "                                Numerical solver                               \n",
      "-------------------------------------------------------------------------------\n",
      "(CVXPY) Mar 19 05:17:14 PM: Invoking solver ECOS  to obtain a solution.\n",
      "\n",
      "ECOS 2.0.7 - (C) embotech GmbH, Zurich Switzerland, 2012-15. Web: www.embotech.com/ECOS\n",
      "\n",
      "It     pcost       dcost      gap   pres   dres    k/t    mu     step   sigma     IR    |   BT\n",
      " 0  +0.000e+00  -0.000e+00  +1e+01  8e-01  1e-02  1e+00  7e-01    ---    ---    1  1  - |  -  - \n",
      " 1  +4.891e-01  +4.879e-01  +2e+00  3e-01  2e-03  2e-01  1e-01  0.8523  7e-03   0  0  0 |  0  0\n",
      " 2  +1.332e+00  +1.330e+00  +5e-01  6e-02  3e-04  3e-02  2e-02  0.7998  4e-02   0  0  0 |  0  0\n",
      " 3  +1.397e+00  +1.396e+00  +8e-02  9e-03  5e-05  5e-03  4e-03  0.8569  2e-02   0  0  0 |  0  0\n",
      " 4  +1.411e+00  +1.411e+00  +1e-02  2e-03  9e-06  9e-04  7e-04  0.8250  5e-03   1  0  0 |  0  0\n",
      " 5  +1.416e+00  +1.416e+00  +1e-03  1e-04  8e-07  7e-05  6e-05  0.9474  4e-02   1  0  0 |  0  0\n",
      " 6  +1.417e+00  +1.417e+00  +1e-05  2e-06  9e-09  8e-07  7e-07  0.9890  1e-04   1  0  0 |  0  0\n",
      " 7  +1.417e+00  +1.417e+00  +2e-07  2e-08  1e-10  9e-09  8e-09  0.9890  1e-04   1  0  0 |  0  0\n",
      " 8  +1.417e+00  +1.417e+00  +2e-09  2e-10  1e-12  1e-10  9e-11  0.9890  1e-04   1  0  0 |  0  0\n",
      "\n",
      "OPTIMAL (within feastol=2.0e-10, reltol=1.2e-09, abstol=1.7e-09).\n",
      "Runtime: 0.000245 seconds.\n",
      "\n",
      "-------------------------------------------------------------------------------\n",
      "                                    Summary                                    \n",
      "-------------------------------------------------------------------------------\n",
      "(CVXPY) Mar 19 05:17:14 PM: Problem status: optimal\n",
      "(CVXPY) Mar 19 05:17:14 PM: Optimal value: 1.417e+00\n",
      "(CVXPY) Mar 19 05:17:14 PM: Compilation took 8.560e-03 seconds\n",
      "(CVXPY) Mar 19 05:17:14 PM: Solver (including time spent in interface) took 3.209e-04 seconds\n",
      "[ 3.55644962e-01 -5.24213369e-11 -6.32458908e-10 -3.80241197e-11\n",
      " -4.22032404e-01  9.15861256e-11  1.70900170e-02  9.61667608e-02\n",
      " -1.48502614e-13 -5.25700283e-01]\n"
     ]
    }
   ],
   "source": [
    "x = cp.Variable(n)\n",
    "obj = cp.Minimize( cp.norm(x,1) )\n",
    "cons = [A @ x == b]\n",
    "P = cp.Problem(obj,cons)\n",
    "P.solve(verbose=True)\n",
    "print(x.value)"
   ]
  },
  {
   "cell_type": "code",
   "execution_count": null,
   "metadata": {},
   "outputs": [],
   "source": []
  }
 ],
 "metadata": {
  "interpreter": {
   "hash": "38a9d234814b4a76450ff8f45502c93f8b25cfa1806eaf223240433707b634f9"
  },
  "kernelspec": {
   "display_name": "Python 3.8.8 64-bit ('base': conda)",
   "name": "python3"
  },
  "language_info": {
   "codemirror_mode": {
    "name": "ipython",
    "version": 3
   },
   "file_extension": ".py",
   "mimetype": "text/x-python",
   "name": "python",
   "nbconvert_exporter": "python",
   "pygments_lexer": "ipython3",
   "version": "3.8.8"
  },
  "orig_nbformat": 4
 },
 "nbformat": 4,
 "nbformat_minor": 2
}
