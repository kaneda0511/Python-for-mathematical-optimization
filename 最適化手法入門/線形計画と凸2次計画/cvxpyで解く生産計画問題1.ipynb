{
 "cells": [
  {
   "cell_type": "code",
   "execution_count": 2,
   "metadata": {},
   "outputs": [
    {
     "name": "stdout",
     "output_type": "stream",
     "text": [
      "===============================================================================\n",
      "                                     CVXPY                                     \n",
      "                                    v1.1.15                                    \n",
      "===============================================================================\n",
      "(CVXPY) Mar 19 04:28:41 PM: Your problem has 2 variables, 5 constraints, and 0 parameters.\n",
      "(CVXPY) Mar 19 04:28:41 PM: It is compliant with the following grammars: DCP, DQCP\n",
      "(CVXPY) Mar 19 04:28:41 PM: (If you need to solve this problem multiple times, but with different data, consider using parameters.)\n",
      "(CVXPY) Mar 19 04:28:41 PM: CVXPY will first compile your problem; then, it will invoke a numerical solver to obtain a solution.\n",
      "-------------------------------------------------------------------------------\n",
      "                                  Compilation                                  \n",
      "-------------------------------------------------------------------------------\n",
      "(CVXPY) Mar 19 04:28:41 PM: Compiling problem (target solver=ECOS).\n",
      "(CVXPY) Mar 19 04:28:41 PM: Reduction chain: FlipObjective -> Dcp2Cone -> CvxAttr2Constr -> ConeMatrixStuffing -> ECOS\n",
      "(CVXPY) Mar 19 04:28:41 PM: Applying reduction FlipObjective\n",
      "(CVXPY) Mar 19 04:28:41 PM: Applying reduction Dcp2Cone\n",
      "(CVXPY) Mar 19 04:28:41 PM: Applying reduction CvxAttr2Constr\n",
      "(CVXPY) Mar 19 04:28:41 PM: Applying reduction ConeMatrixStuffing\n",
      "(CVXPY) Mar 19 04:28:41 PM: Applying reduction ECOS\n",
      "(CVXPY) Mar 19 04:28:41 PM: Finished problem compilation (took 1.885e-02 seconds).\n",
      "-------------------------------------------------------------------------------\n",
      "                                Numerical solver                               \n",
      "-------------------------------------------------------------------------------\n",
      "(CVXPY) Mar 19 04:28:41 PM: Invoking solver ECOS  to obtain a solution.\n",
      "\n",
      "ECOS 2.0.7 - (C) embotech GmbH, Zurich Switzerland, 2012-15. Web: www.embotech.com/ECOS\n",
      "\n",
      "It     pcost       dcost      gap   pres   dres    k/t    mu     step   sigma     IR    |   BT\n",
      " 0  -4.814e+02  -1.107e+03  +3e+02  2e-04  3e-01  1e+00  5e+01    ---    ---    1  1  - |  -  - \n",
      " 1  -5.152e+02  -5.723e+02  +3e+01  2e-05  3e-02  3e-01  5e+00  0.9056  4e-03   0  0  0 |  0  0\n",
      " 2  -5.199e+02  -5.250e+02  +3e+00  2e-06  3e-03  3e-02  4e-01  0.9101  2e-03   1  0  0 |  0  0\n",
      " 3  -5.200e+02  -5.201e+02  +3e-02  2e-08  3e-05  4e-04  5e-03  0.9890  1e-04   1  0  0 |  0  0\n",
      " 4  -5.200e+02  -5.200e+02  +3e-04  2e-10  4e-07  4e-06  5e-05  0.9890  1e-04   1  0  0 |  0  0\n",
      " 5  -5.200e+02  -5.200e+02  +3e-06  2e-12  4e-09  5e-08  6e-07  0.9890  1e-04   1  0  0 |  0  0\n",
      "\n",
      "OPTIMAL (within feastol=4.2e-09, reltol=6.7e-09, abstol=3.5e-06).\n",
      "Runtime: 0.000667 seconds.\n",
      "\n",
      "-------------------------------------------------------------------------------\n",
      "                                    Summary                                    \n",
      "-------------------------------------------------------------------------------\n",
      "(CVXPY) Mar 19 04:28:41 PM: Problem status: optimal\n",
      "(CVXPY) Mar 19 04:28:41 PM: Optimal value: 5.200e+02\n",
      "(CVXPY) Mar 19 04:28:41 PM: Compilation took 1.885e-02 seconds\n",
      "(CVXPY) Mar 19 04:28:41 PM: Solver (including time spent in interface) took 1.327e-03 seconds\n",
      "7.999999991113182 6.00000000081113\n"
     ]
    }
   ],
   "source": [
    "import cvxpy as cp\n",
    "#　決定変数を定義\n",
    "x1,x2 = cp.Variable(),cp.Variable()\n",
    "\n",
    "#　目的関数の記述\n",
    "obj = cp.Maximize(20*x1+60*x2)\n",
    "\n",
    "#　制約条件の記述\n",
    "cons = [5*x1 + 4*x2 <= 80,\n",
    "        2*x1 + 4*x2 <= 40,\n",
    "        2*x1 + 8*x2 <= 64,\n",
    "        x1 >= 0,\n",
    "        x2 >= 0]\n",
    "\n",
    "#　最適化問題を定義\n",
    "P = cp.Problem(obj,cons)\n",
    "#　求解\n",
    "P.solve(verbose=True)\n",
    "#　最適解の出力\n",
    "print(x1.value,x2.value)"
   ]
  },
  {
   "cell_type": "code",
   "execution_count": null,
   "metadata": {},
   "outputs": [],
   "source": []
  }
 ],
 "metadata": {
  "interpreter": {
   "hash": "38a9d234814b4a76450ff8f45502c93f8b25cfa1806eaf223240433707b634f9"
  },
  "kernelspec": {
   "display_name": "Python 3.8.8 64-bit ('base': conda)",
   "name": "python3"
  },
  "language_info": {
   "codemirror_mode": {
    "name": "ipython",
    "version": 3
   },
   "file_extension": ".py",
   "mimetype": "text/x-python",
   "name": "python",
   "nbconvert_exporter": "python",
   "pygments_lexer": "ipython3",
   "version": "3.8.8"
  },
  "orig_nbformat": 4
 },
 "nbformat": 4,
 "nbformat_minor": 2
}
