{
 "cells": [
  {
   "cell_type": "code",
   "execution_count": 4,
   "metadata": {},
   "outputs": [
    {
     "name": "stdout",
     "output_type": "stream",
     "text": [
      "LP-Sample:\n",
      "MAXIMIZE\n",
      "1*x1 + 1*x2 + 0\n",
      "SUBJECT TO\n",
      "ineq1: x1 - x2 <= -1\n",
      "\n",
      "ineq2: - x1 + x2 <= -1\n",
      "\n",
      "VARIABLES\n",
      "x1 Continuous\n",
      "x2 Continuous\n",
      "\n",
      "Infeasible\n",
      "Optimal value = 62500000000000.0\n",
      "x1 = 31250000000000.0\n",
      "x2 = 31250000000000.0\n"
     ]
    }
   ],
   "source": [
    "from pulp import *\n",
    "prob = LpProblem(name=\"LP-Sample\",sense=LpMaximize)\n",
    "x1 = LpVariable(\"x1\",lowBound=0.0)\n",
    "x2 = LpVariable(\"x2\",lowBound=0.0)\n",
    "\n",
    "#　目的関数の設定\n",
    "prob += x1 + x2\n",
    "prob += x1 - x2 <= -1, \"ineq1\"\n",
    "prob += -x1 + x2 <= -1, \"ineq2\"\n",
    "\n",
    "#　問題を出力\n",
    "print(prob)\n",
    "#　求解\n",
    "prob.solve()\n",
    "#　結果の表示\n",
    "print(LpStatus[prob.status])\n",
    "print(\"Optimal value =\", value(prob.objective))\n",
    "for v in prob.variables():\n",
    "    print(v.name,\"=\",value(v))"
   ]
  },
  {
   "cell_type": "code",
   "execution_count": null,
   "metadata": {},
   "outputs": [],
   "source": []
  }
 ],
 "metadata": {
  "interpreter": {
   "hash": "38a9d234814b4a76450ff8f45502c93f8b25cfa1806eaf223240433707b634f9"
  },
  "kernelspec": {
   "display_name": "Python 3.8.8 64-bit ('base': conda)",
   "name": "python3"
  },
  "language_info": {
   "codemirror_mode": {
    "name": "ipython",
    "version": 3
   },
   "file_extension": ".py",
   "mimetype": "text/x-python",
   "name": "python",
   "nbconvert_exporter": "python",
   "pygments_lexer": "ipython3",
   "version": "3.8.8"
  },
  "orig_nbformat": 4
 },
 "nbformat": 4,
 "nbformat_minor": 2
}
