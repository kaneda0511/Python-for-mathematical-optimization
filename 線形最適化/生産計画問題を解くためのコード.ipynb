{
 "cells": [
  {
   "cell_type": "code",
   "execution_count": 11,
   "metadata": {},
   "outputs": [
    {
     "name": "stdout",
     "output_type": "stream",
     "text": [
      "Production:\n",
      "MAXIMIZE\n",
      "150*x1 + 200*x2 + 300*x3 + 0\n",
      "SUBJECT TO\n",
      "ineq0: 3 x1 + x2 + 2 x3 <= 60\n",
      "\n",
      "ineq1: x1 + 3 x2 <= 36\n",
      "\n",
      "ineq2: 2 x2 + 4 x3 <= 48\n",
      "\n",
      "VARIABLES\n",
      "x1 Continuous\n",
      "x2 Continuous\n",
      "x3 Continuous\n",
      "\n",
      "Optimal\n",
      "Optimal value = 5800.0\n",
      "x1 = 12.0\n",
      "x2 = 8.0\n",
      "x3 = 8.0\n"
     ]
    }
   ],
   "source": [
    "from pulp import *\n",
    "import numpy as np\n",
    "\n",
    "#　係数行列の定義\n",
    "A = np.array([[3,1,2,],[1,3,0],[0,2,4]])\n",
    "#　コストベクトルの定義\n",
    "c = np.array([150,200,300])\n",
    "#　右ベクトルの定義\n",
    "b = np.array([60,36,48])\n",
    "\n",
    "#　m,nに係数行列の列と行の数を格納\n",
    "(m,n) = A.shape\n",
    "\n",
    "#　問題の定義\n",
    "prob = LpProblem(name=\"Production\",sense=LpMaximize)\n",
    "#　変数の定義\n",
    "x = [LpVariable(\"x\"+str(i+1),lowBound=0) for i in range(n)]\n",
    "\n",
    "#　目的関数の定義\n",
    "#　lpDot(c,x)でコストベクトルと変数ベクトルの内積\n",
    "prob += lpDot(c,x)\n",
    "\n",
    "#　制約式\n",
    "for i in range(m):\n",
    "    prob += lpDot(A[i],x) <= b[i], \"ineq\"+str(i)\n",
    "\n",
    "#　結果の出力\n",
    "print(prob)\n",
    "prob.solve()\n",
    "print(LpStatus[prob.status])\n",
    "print(\"Optimal value =\", value(prob.objective))\n",
    "for v in prob.variables():\n",
    "    print(v.name,\"=\",v.varValue)"
   ]
  },
  {
   "cell_type": "markdown",
   "metadata": {},
   "source": [
    "## 得られた最適解は正しいかどうかの判定をするコード"
   ]
  },
  {
   "cell_type": "code",
   "execution_count": 12,
   "metadata": {},
   "outputs": [
    {
     "data": {
      "text/plain": [
       "True"
      ]
     },
     "execution_count": 12,
     "metadata": {},
     "output_type": "execute_result"
    }
   ],
   "source": [
    "#　得られた解に対応するベクトルの作成\n",
    "X = np.array([v.varValue for v in prob.variables()])\n",
    "\n",
    "# 係数行列AとベクトルXの積をとり、右側ベクトルと比較\n",
    "#　全ての成分に対して不等式が成り立てばTrueを返す\n",
    "np.all(np.abs(b-np.dot(A,X))<=1.0e-5)"
   ]
  },
  {
   "cell_type": "code",
   "execution_count": null,
   "metadata": {},
   "outputs": [],
   "source": []
  },
  {
   "cell_type": "code",
   "execution_count": null,
   "metadata": {},
   "outputs": [],
   "source": []
  }
 ],
 "metadata": {
  "interpreter": {
   "hash": "38a9d234814b4a76450ff8f45502c93f8b25cfa1806eaf223240433707b634f9"
  },
  "kernelspec": {
   "display_name": "Python 3.8.8 64-bit ('base': conda)",
   "name": "python3"
  },
  "language_info": {
   "codemirror_mode": {
    "name": "ipython",
    "version": 3
   },
   "file_extension": ".py",
   "mimetype": "text/x-python",
   "name": "python",
   "nbconvert_exporter": "python",
   "pygments_lexer": "ipython3",
   "version": "3.8.8"
  },
  "orig_nbformat": 4
 },
 "nbformat": 4,
 "nbformat_minor": 2
}
