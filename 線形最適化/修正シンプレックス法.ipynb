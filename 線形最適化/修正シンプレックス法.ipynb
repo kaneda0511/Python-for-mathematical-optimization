{
 "cells": [
  {
   "cell_type": "markdown",
   "metadata": {},
   "source": [
    "# 改訂シンプレックス法のアルゴリズム\n",
    "### 入力：不等式標準形のLP、ただしb>=0\n",
    "### 出力：最適基底解、あるいは非有界であること\n",
    "### 初期化：N={1,2,...,n} (非基底を格納する)\n",
    "### B={n+1,n+2,...,n+m} (基底を格納する)\n",
    "\n",
    "\n",
    "\n",
    "## while True (以下を繰り返す)\n",
    "## Step1:(最適性チェック、出る変数を選ぶ)\n",
    "## Step2:(非有界性チェック、入る変数を選ぶ)\n",
    "## Step3:(ピボット演算、係数の更新はしない)"
   ]
  },
  {
   "cell_type": "code",
   "execution_count": 2,
   "metadata": {},
   "outputs": [],
   "source": [
    "import numpy as np\n",
    "import scipy.linalg as linalg\n",
    "MEPS = 1.0e-10"
   ]
  },
  {
   "cell_type": "code",
   "execution_count": 9,
   "metadata": {},
   "outputs": [],
   "source": [
    "def lp_RevisedSimplex(c,A,b):\n",
    "    np.seterr(divide='ignore')\n",
    "    (m,n) = A.shape\n",
    "    AI = np.hstack((A,np.identity(m)))\n",
    "    c0 = np.r_[c,np.zeros(m)]\n",
    "    basis = [n+i for i in range(m)]\n",
    "    nonbasis = [j for j in range(n)]\n",
    "\n",
    "    while True:\n",
    "        y = linalg.solve(AI[:,basis].T, c0[basis])\n",
    "        cc = c0[nonbasis]-np.dot(y,AI[:,nonbasis])\n",
    "\n",
    "        #　最適性判定\n",
    "        if np.all(cc <= MEPS):\n",
    "            x = np.zeros(n+m)\n",
    "            x[basis] = linalg.solve(AI[:,basis],b)\n",
    "            print(\"Optimal\")\n",
    "            print(\"Optimal value =\",np.dot(c0[basis],x[basis]))\n",
    "            for i in range(m):\n",
    "                print(\"x\",i, \"=\", x[i])\n",
    "            break\n",
    "        else:\n",
    "            s = np.argmax(cc)\n",
    "        d = linalg.solve(AI[:,basis],AI[:,nonbasis[s]])\n",
    "        \n",
    "        #　非有界判定\n",
    "        if np.all(d <= MEPS):\n",
    "            print(\"Unbounded\")\n",
    "            break\n",
    "        else:\n",
    "            bb = linalg.solve(AI[:,basis],b)\n",
    "            ratio = bb/d\n",
    "            ratio[ratio<-MEPS] = np.inf\n",
    "            r = np.argmin(ratio)\n",
    "            #　基底と非基底の入れ替え\n",
    "            nonbasis[s], basis[r] = basis[r], nonbasis[s]"
   ]
  },
  {
   "cell_type": "code",
   "execution_count": 10,
   "metadata": {},
   "outputs": [],
   "source": [
    "import numpy as np\n",
    "A = np.array([[2,2,-1],[2,-2,3],[0,2,-1]])\n",
    "c = np.array([4,3,5])\n",
    "b = np.array([6,8,4])"
   ]
  },
  {
   "cell_type": "code",
   "execution_count": 11,
   "metadata": {},
   "outputs": [
    {
     "name": "stdout",
     "output_type": "stream",
     "text": [
      "Optimal\n",
      "Optimal value = 45.0\n",
      "x 0 = 0.0\n",
      "x 1 = 4.999999999999999\n",
      "x 2 = 6.0\n"
     ]
    }
   ],
   "source": [
    "lp_RevisedSimplex(c,A,b)"
   ]
  },
  {
   "cell_type": "code",
   "execution_count": null,
   "metadata": {},
   "outputs": [],
   "source": []
  }
 ],
 "metadata": {
  "interpreter": {
   "hash": "38a9d234814b4a76450ff8f45502c93f8b25cfa1806eaf223240433707b634f9"
  },
  "kernelspec": {
   "display_name": "Python 3.8.8 64-bit ('base': conda)",
   "name": "python3"
  },
  "language_info": {
   "codemirror_mode": {
    "name": "ipython",
    "version": 3
   },
   "file_extension": ".py",
   "mimetype": "text/x-python",
   "name": "python",
   "nbconvert_exporter": "python",
   "pygments_lexer": "ipython3",
   "version": "3.8.8"
  },
  "orig_nbformat": 4
 },
 "nbformat": 4,
 "nbformat_minor": 2
}
