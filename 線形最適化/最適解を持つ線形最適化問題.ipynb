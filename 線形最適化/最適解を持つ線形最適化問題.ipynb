{
 "cells": [
  {
   "cell_type": "markdown",
   "metadata": {},
   "source": [
    "## PuLPで線形最適化問題を解く手順\n",
    "#### １）問題オブジェクトを生成する\n",
    "#### ２）変数を定義する\n",
    "#### ３）問題オブジェクトに定義した変数を使った目的関数と制約条件を加える\n",
    "#### ４）問題オブジェクトの最適化メソッドを呼び出し最適化する\n",
    "#### ５）解を出力する"
   ]
  },
  {
   "cell_type": "code",
   "execution_count": 5,
   "metadata": {},
   "outputs": [
    {
     "name": "stdout",
     "output_type": "stream",
     "text": [
      "LP-Sample:\n",
      "MAXIMIZE\n",
      "2*x1 + 3*x2 + 0\n",
      "SUBJECT TO\n",
      "ineq1: x1 + x2 <= 6\n",
      "\n",
      "ineq2: x1 + x2 <= 4\n",
      "\n",
      "ineq3: x1 + x2 <= 6\n",
      "\n",
      "VARIABLES\n",
      "x1 Continuous\n",
      "x2 Continuous\n",
      "\n"
     ]
    }
   ],
   "source": [
    "from pulp import *\n",
    "#　LpProblemにより問題オブジェクトを生成\n",
    "#　nameで問題に名前をsenseで最大化か最小化\n",
    "prob = LpProblem(name=\"LP-Sample\",sense=LpMaximize)\n",
    "\n",
    "#　LpVariableで変数の定義\n",
    "x1 = LpVariable(\"x1\",lowBound=0.0)\n",
    "x2 = LpVariable(\"x2\",lowBound=0.0)\n",
    "\n",
    "#　目的関数の設定\n",
    "prob += 2*x1 + 3*x2\n",
    "prob += x1 + 3+x2 <= 9, \"ineq1\"\n",
    "prob += x1 + x2 <= 4, \"ineq2\"\n",
    "prob += x1 + x2 <= 6, \"ineq3\"\n",
    "\n",
    "#　問題を出力\n",
    "print(prob)"
   ]
  },
  {
   "cell_type": "code",
   "execution_count": 6,
   "metadata": {},
   "outputs": [
    {
     "data": {
      "text/plain": [
       "1"
      ]
     },
     "execution_count": 6,
     "metadata": {},
     "output_type": "execute_result"
    }
   ],
   "source": [
    "#　求解\n",
    "prob.solve()"
   ]
  },
  {
   "cell_type": "code",
   "execution_count": 9,
   "metadata": {},
   "outputs": [
    {
     "name": "stdout",
     "output_type": "stream",
     "text": [
      "Optimal\n",
      "Optimal value = 12.0\n",
      "x1 = 0.0\n",
      "x2 = 4.0\n"
     ]
    }
   ],
   "source": [
    "#　結果の表示\n",
    "#　LpStatus[prob.status]でどういう状態で解けたのかを出力\n",
    "print(LpStatus[prob.status])\n",
    "#　value(prob.objectiveで最適値\n",
    "print(\"Optimal value =\", value(prob.objective))\n",
    "#　value(v)で最適値の値を得る\n",
    "for v in prob.variables():\n",
    "    print(v.name,\"=\",value(v))"
   ]
  },
  {
   "cell_type": "code",
   "execution_count": 10,
   "metadata": {},
   "outputs": [
    {
     "data": {
      "text/plain": [
       "[x1, x2]"
      ]
     },
     "execution_count": 10,
     "metadata": {},
     "output_type": "execute_result"
    }
   ],
   "source": [
    "#　計算結果をLP形式でファイルに出力\n",
    "prob.writeMPS(\"例題2.1\")"
   ]
  },
  {
   "cell_type": "code",
   "execution_count": 13,
   "metadata": {},
   "outputs": [
    {
     "name": "stdout",
     "output_type": "stream",
     "text": [
      "LP-Sample:\n",
      "MAXIMIZE\n",
      "2*x1 + 3*x2 + 0\n",
      "SUBJECT TO\n",
      "ineq1: x1 + 3 x2 <= 9\n",
      "\n",
      "ineq2: x1 + x2 <= 4\n",
      "\n",
      "ineq3: x1 + x2 <= 6\n",
      "\n",
      "VARIABLES\n",
      "x1 Continuous\n",
      "x2 Continuous\n",
      "\n",
      "Optimal\n",
      "Optimal value = 10.5\n",
      "x1 = 1.5\n",
      "x2 = 2.5\n"
     ]
    }
   ],
   "source": [
    "from pulp import *\n",
    "prob = LpProblem(name=\"LP-Sample\",sense=LpMaximize)\n",
    "x1 = LpVariable(\"x1\",lowBound=0.0)\n",
    "x2 = LpVariable(\"x2\",lowBound=0.0)\n",
    "\n",
    "#　目的関数の設定\n",
    "prob += 2*x1 + 3*x2\n",
    "prob += x1 + 3*x2 <= 9, \"ineq1\"\n",
    "prob += x1 + x2 <= 4, \"ineq2\"\n",
    "prob += x1 + x2 <= 6, \"ineq3\"\n",
    "\n",
    "#　問題を出力\n",
    "print(prob)\n",
    "#　求解\n",
    "prob.solve()\n",
    "#　結果の表示\n",
    "print(LpStatus[prob.status])\n",
    "print(\"Optimal value =\", value(prob.objective))\n",
    "for v in prob.variables():\n",
    "    print(v.name,\"=\",value(v))"
   ]
  }
 ],
 "metadata": {
  "interpreter": {
   "hash": "38a9d234814b4a76450ff8f45502c93f8b25cfa1806eaf223240433707b634f9"
  },
  "kernelspec": {
   "display_name": "Python 3.8.8 64-bit ('base': conda)",
   "name": "python3"
  },
  "language_info": {
   "codemirror_mode": {
    "name": "ipython",
    "version": 3
   },
   "file_extension": ".py",
   "mimetype": "text/x-python",
   "name": "python",
   "nbconvert_exporter": "python",
   "pygments_lexer": "ipython3",
   "version": "3.8.8"
  },
  "orig_nbformat": 4
 },
 "nbformat": 4,
 "nbformat_minor": 2
}
